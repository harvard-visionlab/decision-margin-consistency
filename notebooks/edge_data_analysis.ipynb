{
 "cells": [
  {
   "cell_type": "code",
   "execution_count": null,
   "id": "c21fea8e-7175-41ea-96e7-7888669e1c1b",
   "metadata": {
    "tags": []
   },
   "outputs": [],
   "source": [
    "%config InlineBackend.figure_format = 'retina'"
   ]
  },
  {
   "cell_type": "code",
   "execution_count": null,
   "id": "923e704f-1d9e-4b84-a47e-50b2d6a05bbe",
   "metadata": {
    "tags": []
   },
   "outputs": [],
   "source": [
    "%load_ext autoreload\n",
    "%autoreload 2"
   ]
  },
  {
   "cell_type": "markdown",
   "id": "e0e14dfd-8fea-490b-a79d-2549ceae4a78",
   "metadata": {},
   "source": [
    "# imports"
   ]
  },
  {
   "cell_type": "code",
   "execution_count": null,
   "id": "978ff696-1519-4e20-94b5-f2e7e5db100a",
   "metadata": {
    "tags": []
   },
   "outputs": [],
   "source": [
    "import os\n",
    "import numpy as np\n",
    "import pandas as pd\n",
    "from natsort import natsorted\n",
    "from scipy.stats import pearsonr "
   ]
  },
  {
   "cell_type": "code",
   "execution_count": null,
   "id": "bdc36780-2238-46d4-af1b-7b28cfe8b1ed",
   "metadata": {
    "tags": []
   },
   "outputs": [],
   "source": [
    "import decision_margin_consistency.analyses.self_consistency as analysis"
   ]
  },
  {
   "cell_type": "markdown",
   "id": "c982de16-e760-4812-aead-3e73e220de10",
   "metadata": {
    "tags": []
   },
   "source": [
    "# load the data"
   ]
  },
  {
   "cell_type": "code",
   "execution_count": null,
   "id": "ffdb87b5-959b-4cd0-bf5f-825bc54b5a77",
   "metadata": {
    "tags": []
   },
   "outputs": [],
   "source": [
    "exp_name = 'snr-edges-v1'\n",
    "df = analysis.load_data(exp_name, nTrials=160)"
   ]
  },
  {
   "cell_type": "code",
   "execution_count": null,
   "id": "49c04ecd-a99a-4a48-8538-c9fbb8e6838b",
   "metadata": {
    "tags": []
   },
   "outputs": [],
   "source": [
    "df.iloc[0]"
   ]
  },
  {
   "cell_type": "code",
   "execution_count": null,
   "id": "8bc6795a-f2ab-417f-9b92-5f057e695613",
   "metadata": {
    "tags": []
   },
   "outputs": [],
   "source": [
    "df.groupby(by=['workerID']).responseCorrect.mean()"
   ]
  },
  {
   "cell_type": "markdown",
   "id": "14b2eadd-03a6-4b8b-b22f-1268c5d8e19a",
   "metadata": {
    "tags": []
   },
   "source": [
    "# check for outliers\n",
    "\n",
    "Trim any subjects more than 3 STD from the mean (there were none in this dataset)"
   ]
  },
  {
   "cell_type": "code",
   "execution_count": null,
   "id": "5686b313-bf27-4619-80e5-ef02bcacf693",
   "metadata": {
    "tags": []
   },
   "outputs": [],
   "source": [
    "import seaborn as sns\n",
    "subjects = df.workerID.unique()\n",
    "accuracy = df.groupby(by=['workerID']).responseCorrect.mean()\n",
    "M = accuracy.mean()\n",
    "STD = accuracy.std()\n",
    "lower = M - 3*STD \n",
    "upper = min(.99, M + 3*STD)\n",
    "outliers = (accuracy < lower) | (accuracy > upper)\n",
    "any(outliers)"
   ]
  },
  {
   "cell_type": "code",
   "execution_count": null,
   "id": "9d388340-ffa4-4d9c-bd18-70d81ced5ebb",
   "metadata": {
    "tags": []
   },
   "outputs": [],
   "source": [
    "g = sns.displot(accuracy)\n",
    "g.set(xlim=(.50, 1.00));"
   ]
  },
  {
   "cell_type": "markdown",
   "id": "6376dc56-6eff-42ae-87e5-a9dc29c1aa41",
   "metadata": {},
   "source": [
    "# self-consistency analysis\n",
    "\n",
    "We computed self-consistency by comparing subjects to themselves (1st vs. 2nd trial across images). TLDR, subjects do not respond consistency across trials."
   ]
  },
  {
   "cell_type": "code",
   "execution_count": null,
   "id": "479338d3-b4a8-4ac1-b661-35f9a5041bfe",
   "metadata": {
    "tags": []
   },
   "outputs": [],
   "source": [
    "%load_ext autoreload\n",
    "%autoreload 2"
   ]
  },
  {
   "cell_type": "code",
   "execution_count": null,
   "id": "09b54cde-0025-4e55-bdbe-62ea16c7e2fd",
   "metadata": {
    "tags": []
   },
   "outputs": [],
   "source": [
    "results = analysis.compute_summary(df)\n",
    "results"
   ]
  },
  {
   "cell_type": "code",
   "execution_count": null,
   "id": "7c9c1640-6527-42bc-9f2a-7f695844f422",
   "metadata": {
    "tags": []
   },
   "outputs": [],
   "source": [
    "condNames = sorted(results.condName.unique())\n",
    "subjects = results.subject.unique()\n",
    "condNames, subjects, len(subjects)"
   ]
  },
  {
   "cell_type": "markdown",
   "id": "b0905a10-1b0d-4bca-9eef-6a4ec1aaf20d",
   "metadata": {},
   "source": [
    "For each individual, compute the mean accuracy for the 1st and 2nd trial, and the correlation across items for trial1 accuracy vs. trial2 accuracy."
   ]
  },
  {
   "cell_type": "code",
   "execution_count": null,
   "id": "c3ccd28b-e1bb-476f-af10-0d9115f9e7a4",
   "metadata": {
    "tags": []
   },
   "outputs": [],
   "source": [
    "trial1_acc = []\n",
    "trial2_acc = []\n",
    "corrs = []\n",
    "r2s = []\n",
    "N = len(subjects)\n",
    "for subject in subjects:\n",
    "    subset = results[results.subject==subject]\n",
    "    corr = pearsonr(subset.correct1, subset.correct2)[0]\n",
    "    r2 = corr**2\n",
    "    corrs.append(corr)\n",
    "    r2s.append(r2)\n",
    "    trial1_acc.append(subset.correct1.mean())\n",
    "    trial2_acc.append(subset.correct2.mean())\n",
    "avg_trial1_acc = np.mean(trial1_acc)\n",
    "avg_trial2_acc = np.mean(trial2_acc)\n",
    "avg_corr = np.mean(corrs)\n",
    "avg_r2 = np.mean(r2s)  \n",
    "print(f\"Summary of first vs. second response performance (N={N})\")\n",
    "print(f\"Mean proportion correct first trial = {avg_trial1_acc:3.3f}, vs. second trial = {avg_trial2_acc:3.3f}\")\n",
    "print(f\"Correlation across items first vs. second response, r={avg_corr:3.3f}, r2={avg_r2:3.3}\")"
   ]
  },
  {
   "cell_type": "markdown",
   "id": "719b1675-ff7b-4a9b-a157-2b01b17f4bfc",
   "metadata": {
    "tags": []
   },
   "source": [
    "Next we compute cohen's kappa (error consistency) between first and second response."
   ]
  },
  {
   "cell_type": "code",
   "execution_count": null,
   "id": "99a04379-e403-48fa-9cbc-637e53899d48",
   "metadata": {
    "tags": []
   },
   "outputs": [],
   "source": [
    "print(\"\\nConsistency of first vs. second response (within a subject) ==>\")\n",
    "kappas = []\n",
    "corrs = []\n",
    "for subject in subjects:\n",
    "    subset = results[results.subject==subject]\n",
    "    condName = subset.iloc[0].condName\n",
    "    assert len(subset)==80\n",
    "    err_con = analysis.compute_error_consistency(subset.correct1.values, subset.correct2.values)\n",
    "    r = pearsonr(subset.correct1, subset.correct2)[0]\n",
    "    kappas.append(err_con['k'])\n",
    "    corrs.append(r)\n",
    "    # print(f\"{subject[0:5]}... ({condName}): c_exp={err_con['c_exp']:2.3f}, c_obs={err_con['c_obs']:2.3f} kappa={err_con['k']:2.3f}, r={r:2.3f}\")\n",
    "\n",
    "kappas = np.array(kappas)\n",
    "corrs = np.array(corrs)\n",
    "kappas.mean(), corrs.mean()\n",
    "\n",
    "print(f\"Cohen's kappa (average): {kappas.mean():3.3f}\")\n",
    "print(f\"Accuracy correlation (average): {corrs.mean():3.3f}\")"
   ]
  },
  {
   "cell_type": "code",
   "execution_count": null,
   "id": "0f9ef955-acec-48e3-a323-5ce7175215ea",
   "metadata": {
    "tags": []
   },
   "outputs": [],
   "source": [
    "len(kappas)"
   ]
  },
  {
   "cell_type": "code",
   "execution_count": null,
   "id": "fc762758-c91c-41f0-ba30-ed9f79d154f4",
   "metadata": {
    "tags": []
   },
   "outputs": [],
   "source": [
    "ax = sns.scatterplot(x=kappas, y=corrs)\n",
    "ax.axis('square');\n",
    "ax.set_xlim([.3,1.0]);\n",
    "ax.set_ylim([.3,1.0]);\n",
    "ax.set_xlabel(\"Cohen's Kappa\")\n",
    "ax.set_ylabel(\"pearson r\")\n",
    "ax.plot([0, 1], [0, 1], transform=ax.transAxes)"
   ]
  },
  {
   "cell_type": "code",
   "execution_count": null,
   "id": "931ede8f-0950-4f21-a57a-89096a446ecd",
   "metadata": {
    "tags": []
   },
   "outputs": [],
   "source": [
    "import pandas as pd\n",
    "from collections import defaultdict\n",
    "\n",
    "def get_group_avg_accuracy(df):\n",
    "    results = defaultdict(list)\n",
    "    for condName in condNames:\n",
    "        df_ = df[df.condName==condName]\n",
    "        all_items = natsorted(df_.item.unique())\n",
    "        subjects = df_.subject.unique()\n",
    "\n",
    "        for item in all_items:\n",
    "            subset = df_[df_.item==item]\n",
    "            assert len(subset)==len(subjects)\n",
    "            results['condName'].append(condName)\n",
    "            results['item'].append(item)\n",
    "            results['correct1'].append(subset.correct1.mean())\n",
    "            results['correct2'].append(subset.correct2.mean())\n",
    "\n",
    "    results = pd.DataFrame(results)\n",
    "\n",
    "    return results\n",
    "\n",
    "avg_acc = get_group_avg_accuracy(results)\n",
    "avg_acc"
   ]
  },
  {
   "cell_type": "code",
   "execution_count": null,
   "id": "a5609225-4486-4fe0-9958-95808c4883cc",
   "metadata": {
    "tags": []
   },
   "outputs": [],
   "source": [
    "for condName in condNames:\n",
    "    subset = avg_acc[avg_acc.condName==condName]\n",
    "    assert len(subset)==80  \n",
    "    r = pearsonr(subset.correct1, subset.correct2)[0]\n",
    "    print(f\"{condName}: r={r:3.3f}, r\\u00B2={r*r:3.3f}\")"
   ]
  },
  {
   "cell_type": "code",
   "execution_count": null,
   "id": "9cf835a2-aa51-4fbc-8131-0bcc996843c9",
   "metadata": {
    "tags": []
   },
   "outputs": [],
   "source": [
    "def fisherz(r, eps=1e-5):\n",
    "    return np.arctanh(r-eps)\n",
    "\n",
    "def fisherz_inv(z):\n",
    "    return np.tanh(z)"
   ]
  },
  {
   "cell_type": "code",
   "execution_count": null,
   "id": "54d158f3-8600-418f-8338-ace3c487f353",
   "metadata": {
    "tags": []
   },
   "outputs": [],
   "source": [
    "import matplotlib.pyplot as plt \n",
    "\n",
    "for condName in condNames:\n",
    "    subset = avg_acc[avg_acc.condName==condName]\n",
    "    assert len(subset)==80  \n",
    "    r = pearsonr(subset.correct1, subset.correct2)[0]\n",
    "    print(f\"{condName}: r={r:3.3f}\")\n",
    "\n",
    "    ax = sns.scatterplot(x=subset.correct1, y=subset.correct2)\n",
    "    ax.axis('square');\n",
    "    ax.set_xlim([0,1.2]);\n",
    "    ax.set_ylim([0,1.2]);\n",
    "    ax.set_xlabel(\"accuracy first presentation\")\n",
    "    ax.set_ylabel(\"accuracy second presentation\")\n",
    "    plt.show()"
   ]
  },
  {
   "cell_type": "code",
   "execution_count": null,
   "id": "25cbd4f8-f7f5-43d1-b52c-22f7b9584d81",
   "metadata": {
    "tags": []
   },
   "outputs": [],
   "source": [
    "corrs = []\n",
    "corrs_half = []\n",
    "corrs_12 = []\n",
    "corrs_21 = []\n",
    "r1s = []\n",
    "r2s = []\n",
    "for condName in condNames:\n",
    "    df_ = results[results.condName==condName]\n",
    "    all_items = df_.item.unique()\n",
    "    subjects = df_.subject.unique()\n",
    "    num_subj = len(subjects)\n",
    "    for idx1 in range(0,num_subj-1):\n",
    "        sub1 = subjects[idx1]\n",
    "        dat1 = df_[df_.subject==sub1].reset_index()\n",
    "        assert len(dat1)==80\n",
    "        for idx2 in range(idx1+1,num_subj):\n",
    "            sub2 = subjects[idx2]      \n",
    "            dat2 = df_[df_.subject==sub2].reset_index()\n",
    "            assert len(dat1)==80\n",
    "            assert all((dat1.subject == dat2.subject)==False)\n",
    "            assert all((dat1.item == dat2.item)==True)\n",
    "            r = pearsonr(dat1.correctAvg, dat2.correctAvg)[0]\n",
    "            r1 = pearsonr(dat1.correct1, dat1.correct2)[0]\n",
    "            r2 = pearsonr(dat2.correct1, dat2.correct2)[0]\n",
    "            r12 = pearsonr(dat1.correct1, dat2.correct2)[0]\n",
    "            r21 = pearsonr(dat1.correct2, dat2.correct1)[0]\n",
    "            rhalf = (r12+r21)/2\n",
    "            corrs.append(r)\n",
    "            corrs_half.append(rhalf)\n",
    "            corrs_12.append(r12)\n",
    "            corrs_21.append(r21)\n",
    "            r1s.append(r1)\n",
    "            r2s.append(r2)\n",
    "            print(f\"{condName}-Sub{idx1}-Sub{idx2}: r={r:3.3f}, rhalf={rhalf:3.3f}, r12={r12:3.3f}, r21={r21:3.3f}\")\n",
    "\n",
    "corrs = np.array(corrs)\n",
    "corrs_half = np.array(corrs_half)\n",
    "corrs_12 = np.array(corrs_half)\n",
    "corrs_21 = np.array(corrs_21)\n",
    "r1s = np.array(r1s)\n",
    "r2s = np.array(r2s)\n",
    "corrs.mean(), corrs_half.mean(), r1s.mean(), r2s.mean()"
   ]
  },
  {
   "cell_type": "code",
   "execution_count": null,
   "id": "1975371d-e78c-480f-9cb1-c839b6e58db4",
   "metadata": {
    "tags": []
   },
   "outputs": [],
   "source": [
    "2*corrs_half.mean() / (1+corrs_half.mean())"
   ]
  },
  {
   "cell_type": "code",
   "execution_count": null,
   "id": "c5e4206a-b10f-4d66-bb5b-7be8698b9c36",
   "metadata": {
    "tags": []
   },
   "outputs": [],
   "source": [
    "rAB = corrs_half.mean() / np.sqrt(r1s.mean() * r2s.mean())\n",
    "rAB"
   ]
  },
  {
   "cell_type": "code",
   "execution_count": null,
   "id": "323569e3-466c-4007-8239-e3e3b57b0238",
   "metadata": {
    "tags": []
   },
   "outputs": [],
   "source": [
    "2*rAB / (1+rAB)"
   ]
  },
  {
   "cell_type": "code",
   "execution_count": null,
   "id": "67c504c1-8900-43fe-9e40-6cdea3323c3d",
   "metadata": {},
   "outputs": [],
   "source": []
  },
  {
   "cell_type": "code",
   "execution_count": null,
   "id": "b048e560-8849-4a90-8a11-a020c512cf90",
   "metadata": {},
   "outputs": [],
   "source": []
  }
 ],
 "metadata": {
  "kernelspec": {
   "display_name": "modelvshuman",
   "language": "python",
   "name": "modelvshuman"
  },
  "language_info": {
   "codemirror_mode": {
    "name": "ipython",
    "version": 3
   },
   "file_extension": ".py",
   "mimetype": "text/x-python",
   "name": "python",
   "nbconvert_exporter": "python",
   "pygments_lexer": "ipython3",
   "version": "3.10.12"
  }
 },
 "nbformat": 4,
 "nbformat_minor": 5
}
