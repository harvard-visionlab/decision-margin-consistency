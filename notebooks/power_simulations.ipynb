{
 "cells": [
  {
   "cell_type": "code",
   "execution_count": null,
   "id": "59e4e059-0198-4cb7-9c69-c35a58927655",
   "metadata": {
    "tags": []
   },
   "outputs": [],
   "source": [
    "%config InlineBackend.figure_format='retina'"
   ]
  },
  {
   "cell_type": "code",
   "execution_count": null,
   "id": "8a8d09e0-3ee5-47b0-bf5f-2119228b9bc7",
   "metadata": {
    "tags": []
   },
   "outputs": [],
   "source": [
    "import seaborn as sns\n",
    "import matplotlib.pyplot as plt"
   ]
  },
  {
   "cell_type": "code",
   "execution_count": null,
   "id": "9ad153d2-3946-40de-98fb-bfec8163c2d8",
   "metadata": {
    "tags": []
   },
   "outputs": [],
   "source": [
    "import numpy as np\n",
    "\n",
    "# Parameters\n",
    "n_trials = 100  # number of trials\n",
    "p_correct = 0.75  # proportion of correct trials (true probability)\n",
    "n_simulations = 5\n",
    "\n",
    "# Simulate the number of correct trials\n",
    "for _ in range(n_simulations):\n",
    "    simulated_correct_trials = np.random.binomial(n=n_trials, p=p_correct)\n",
    "    simulated_accuracy = simulated_correct_trials/n_trials\n",
    "    print(f\"num_correct={simulated_correct_trials}, pct_correct={simulated_accuracy:3.2f}\")"
   ]
  },
  {
   "cell_type": "code",
   "execution_count": null,
   "id": "d26df9b0-a440-4c06-9fd0-03279bb577d6",
   "metadata": {
    "tags": []
   },
   "outputs": [],
   "source": [
    "def fisherz(r, eps=1e-5):\n",
    "    return np.arctanh(r-eps)\n",
    "\n",
    "def fisherz_inv(z):\n",
    "    return np.tanh(z)"
   ]
  },
  {
   "cell_type": "code",
   "execution_count": null,
   "id": "2b69f77f-0aa0-48c2-94c3-7236eea84c71",
   "metadata": {
    "tags": []
   },
   "outputs": [],
   "source": [
    "import numpy as np\n",
    "import pandas as pd\n",
    "from collections import defaultdict\n",
    "from scipy import stats\n",
    "\n",
    "def run_simulation(p_correct, n_trials, n_simulations=10000, tol=.05):\n",
    "    # Simulate the number of correct trials for each n_trials value over 10,000 simulations\n",
    "    simulated_correct_trials = np.random.binomial(n=n_trials, \n",
    "                                                  p=p_correct, \n",
    "                                                  size=(n_trials.shape[0], n_simulations))\n",
    "    prop_correct = simulated_correct_trials/n_trials\n",
    "\n",
    "    # Compute the 95% confidence interval (2.5th and 97.5th percentiles) for each row\n",
    "    ci_lower = np.percentile(prop_correct, 2.5, axis=1)  # 2.5th percentile\n",
    "    ci_upper = np.percentile(prop_correct, 97.5, axis=1)  # 97.5th percentile\n",
    "\n",
    "    # Combine results into a single array for easy display\n",
    "    confidence_intervals = np.vstack((ci_lower, ci_upper)).T\n",
    "\n",
    "    # Print the confidence intervals for each n_trials\n",
    "    lower_cutoff = p_correct - tol\n",
    "    upper_cutoff = p_correct + tol\n",
    "    results = defaultdict(list)\n",
    "    for i, n in enumerate(n_trials.flatten()):\n",
    "        scores = prop_correct[i]\n",
    "        above_cuttoff = (scores > upper_cutoff).sum()\n",
    "        below_cuttoff = (scores < lower_cutoff).sum()\n",
    "        p_exceeds_tol = (above_cuttoff + below_cuttoff) / len(scores)\n",
    "        \n",
    "        results['p_true'].append(p_correct)\n",
    "        results['n_trials'].append(n)\n",
    "        results['mean'].append(scores.mean())\n",
    "        results['min_score'].append(scores.min())\n",
    "        results['max_score'].append(scores.max())\n",
    "        results['sem'].append(stats.sem(scores))\n",
    "        results['lower_ci'].append(confidence_intervals[i, 0])\n",
    "        results['upper_ci'].append(confidence_intervals[i, 1])\n",
    "        results['p_exceeds_tol'].append(p_exceeds_tol)\n",
    "    \n",
    "    results = pd.DataFrame(results)\n",
    "    \n",
    "    return results\n",
    "\n",
    "# Parameters\n",
    "tol = .05 # our tolerance level\n",
    "n_trials = np.array([10, 25, 50, 100, 200, 250, 275, 300, 400, 1000])[:, np.newaxis]  # multiple n_trials values\n",
    "n_simulations = 10000  # number of times to run the simulation for each n_trials value\n",
    "results1 = run_simulation(.50, n_trials, n_simulations, tol)\n",
    "results1"
   ]
  },
  {
   "cell_type": "code",
   "execution_count": null,
   "id": "8bef7f1c-9449-4d9d-a202-fb2b3ee982ad",
   "metadata": {
    "tags": []
   },
   "outputs": [],
   "source": [
    "results2 = run_simulation(.75, n_trials, n_simulations, tol)\n",
    "results2"
   ]
  },
  {
   "cell_type": "code",
   "execution_count": null,
   "id": "11402aaf-9fff-448f-9938-d49d9cc654a9",
   "metadata": {
    "tags": []
   },
   "outputs": [],
   "source": [
    "results3 = run_simulation(.90, n_trials, n_simulations, tol)\n",
    "results3"
   ]
  },
  {
   "cell_type": "code",
   "execution_count": null,
   "id": "a7a439f0-18aa-4ce7-aa52-c0adcbd4f029",
   "metadata": {
    "tags": []
   },
   "outputs": [],
   "source": [
    "all_results = [results1, results2, results3]"
   ]
  },
  {
   "cell_type": "code",
   "execution_count": null,
   "id": "753e342a-7979-40bd-954e-07b8a107ee6c",
   "metadata": {
    "tags": []
   },
   "outputs": [],
   "source": [
    "# plt.figure(figsize=(4, 3))\n",
    "fig, axes = plt.subplots(1, len(all_results), figsize=(12, 4))\n",
    "\n",
    "for idx,results in enumerate(all_results):\n",
    "    p_correct = results.iloc[0].p_true\n",
    "    ax = axes[idx]\n",
    "    ax = sns.lineplot(data = results, x=\"n_trials\", y=\"lower_ci\", label=\"lower_ci\", ax=ax)\n",
    "    ax = sns.lineplot(data = results, x=\"n_trials\", y=\"upper_ci\", label=\"upper_ci\", ax=ax)\n",
    "    ax.axhline(y=p_correct, color='gray', linestyle='--');\n",
    "    ax.set_ylim([.0, 1.1])\n",
    "    if (idx==0):\n",
    "        ax.set_ylabel('proportion correct', fontsize=14, labelpad=10);\n",
    "    else:\n",
    "        ax.set_ylabel('', fontsize=14, labelpad=10);\n",
    "    ax.set_xlabel('number of trials', fontsize=14, labelpad=10);\n",
    "    ax.set_title(f\"95% CI over {n_simulations} simulations\\nEstimating true accuracy={p_correct}\", pad=10);\n",
    "    ax.legend(loc='lower right')\n",
    "\n",
    "# ax = axes[1]\n",
    "# results = results2\n",
    "# ax = sns.lineplot(data = results, x=\"n_trials\", y=\"lower_ci\", label=\"lower_ci\", ax=ax)\n",
    "# ax = sns.lineplot(data = results, x=\"n_trials\", y=\"upper_ci\", label=\"upper_ci\", ax=ax)\n",
    "# ax.axhline(y=p_correct, color='gray', linestyle='--', label='Reference line at y=0.5');\n",
    "# ax.set_ylim([.0, 1.1])\n",
    "# ax.set_ylabel('proportion correct', fontsize=14, labelpad=10);\n",
    "# ax.set_xlabel('number of trials', fontsize=14, labelpad=10);\n",
    "# ax.set_title(f\"95% CI over {n_simulations} simulations\\nEstimating {p_correct} accuracy from n trials\", pad=10);\n",
    "# ax.legend(loc='lower right')\n",
    "\n",
    "plt.savefig(\"simulation_results.png\", dpi=300, bbox_inches='tight')"
   ]
  },
  {
   "cell_type": "code",
   "execution_count": null,
   "id": "2e004c02-d292-4402-9073-a31173d5d600",
   "metadata": {
    "tags": []
   },
   "outputs": [],
   "source": [
    "results"
   ]
  },
  {
   "cell_type": "code",
   "execution_count": null,
   "id": "2906150f-c1b1-4373-b78f-c4e7d84917cd",
   "metadata": {
    "tags": []
   },
   "outputs": [],
   "source": [
    "for n, ci, scores in zip(n_trials, confidence_intervals, prop_correct):\n",
    "    g = sns.displot(scores)\n",
    "    ax = plt.gca()\n",
    "    ax.set_xlim([0,1.2])\n",
    "    ax.set_ylim([0,3000])\n",
    "    ax.set_title(f\"Number of trials={n[0]}, 95% CI: [{ci[0]:3.2f},{ci[1]:3.2f}]\")"
   ]
  },
  {
   "cell_type": "code",
   "execution_count": null,
   "id": "9a0d841c-84e0-43b7-aea0-1edecfe112f6",
   "metadata": {},
   "outputs": [],
   "source": []
  }
 ],
 "metadata": {
  "kernelspec": {
   "display_name": "Python 3",
   "language": "python",
   "name": "python3"
  },
  "language_info": {
   "codemirror_mode": {
    "name": "ipython",
    "version": 3
   },
   "file_extension": ".py",
   "mimetype": "text/x-python",
   "name": "python",
   "nbconvert_exporter": "python",
   "pygments_lexer": "ipython3",
   "version": "3.10.12"
  }
 },
 "nbformat": 4,
 "nbformat_minor": 5
}
